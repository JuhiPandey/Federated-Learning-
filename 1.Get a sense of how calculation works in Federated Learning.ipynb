{
 "cells": [
  {
   "cell_type": "markdown",
   "id": "48052670",
   "metadata": {},
   "source": [
    "# Easy Example Calculation\n"
   ]
  },
  {
   "cell_type": "markdown",
   "id": "b813130a",
   "metadata": {},
   "source": [
    "Secure aggregation in Federated Learning is a technique used to protect the privacy of individual data contributions from clients (e.g., smartwatches) during the training of a global model. Instead of sharing their raw data, each client updates a local model using their own data and then only shares the model updates (differences) with a central server. These updates are combined, or aggregated, to update the global model. To further enhance privacy, advanced methods like secure multiparty computation or differential privacy can be applied. These methods ensure that even if the central server or other clients are compromised, the individual data of each client remains protected. By averaging the model updates from multiple clients, we obtain a global model that benefits from the diverse data while maintaining the privacy of each client's individual dataset."
   ]
  },
  {
   "cell_type": "code",
   "execution_count": 10,
   "id": "121d3160",
   "metadata": {},
   "outputs": [
    {
     "name": "stdout",
     "output_type": "stream",
     "text": [
      "Initialization: Global model weights: [0. 0.]\n"
     ]
    }
   ],
   "source": [
    "# Import numpy for array calculations\n",
    "import numpy as np\n",
    "\n",
    "# Initialization\n",
    "global_model = np.array([0.0, 0.0])\n",
    "print(\"Initialization: Global model weights:\", global_model)\n"
   ]
  },
  {
   "cell_type": "markdown",
   "id": "7c6feb02",
   "metadata": {},
   "source": [
    "### The choice of update rule can impact model convergence, privacy preservation, and overall efficiency in Federated Learning systems. Therefore, it's important to select or design an update rule that aligns with the goals and constraints of the business application."
   ]
  },
  {
   "cell_type": "code",
   "execution_count": 11,
   "id": "8d8cc566",
   "metadata": {},
   "outputs": [
    {
     "name": "stdout",
     "output_type": "stream",
     "text": [
      "\n",
      "Round 1 - Client 1 updated model: [0.2 0.4]\n"
     ]
    }
   ],
   "source": [
    "# Round 1\n",
    "# Client 1 has data D1 = [1.0, 2.0]\n",
    "# The update rule for Client 1 is: w1 = global_model - 0.2 * (global_model - D1)\n",
    "D1 = np.array([1.0, 2.0])\n",
    "w1 = global_model - 0.2 * (global_model - D1)\n",
    "print(\"\\nRound 1 - Client 1 updated model:\", w1)\n"
   ]
  },
  {
   "cell_type": "code",
   "execution_count": 12,
   "id": "c8e0ede0",
   "metadata": {},
   "outputs": [
    {
     "name": "stdout",
     "output_type": "stream",
     "text": [
      "Round 1 - Client 2 updated model: [0.6 0.8]\n"
     ]
    }
   ],
   "source": [
    "# Client 2 has data D2 = [3.0, 4.0]\n",
    "# The update rule for Client 2 is: w2 = global_model - 0.2 * (global_model - D2)\n",
    "D2 = np.array([3.0, 4.0])\n",
    "w2 = global_model - 0.2 * (global_model - D2)\n",
    "print(\"Round 1 - Client 2 updated model:\", w2)\n"
   ]
  },
  {
   "cell_type": "code",
   "execution_count": 9,
   "id": "550dc99a",
   "metadata": {},
   "outputs": [
    {
     "name": "stdout",
     "output_type": "stream",
     "text": [
      "\n",
      "Round 1 - Client 1 updated model: [0.2 0.4]\n"
     ]
    }
   ],
   "source": [
    "# Client 1\n",
    "D1 = np.array([1.0, 2.0])\n",
    "w1 = global_model - 0.2 * (global_model - D1)\n",
    "print(\"\\nRound 1 - Client 1 updated model:\", w1)\n"
   ]
  },
  {
   "cell_type": "code",
   "execution_count": 13,
   "id": "dbeba372",
   "metadata": {},
   "outputs": [
    {
     "name": "stdout",
     "output_type": "stream",
     "text": [
      "Round 1 - Client 3 updated model: [1.  1.2]\n"
     ]
    }
   ],
   "source": [
    "# Client 3 has data D3 = [5.0, 6.0]\n",
    "# The update rule for Client 3 is: w3 = global_model - 0.2 * (global_model - D3)\n",
    "D3 = np.array([5.0, 6.0])\n",
    "w3 = global_model - 0.2 * (global_model - D3)\n",
    "print(\"Round 1 - Client 3 updated model:\", w3)\n"
   ]
  },
  {
   "cell_type": "code",
   "execution_count": 14,
   "id": "6f3125c6",
   "metadata": {},
   "outputs": [
    {
     "name": "stdout",
     "output_type": "stream",
     "text": [
      "Round 1: Global model weights after aggregation: [0.6 0.8]\n"
     ]
    }
   ],
   "source": [
    "# Aggregation step\n",
    "# The global model is updated by averaging the models from all clients\n",
    "# global_model = (w1 + w2 + w3) / 3\n",
    "global_model = (w1 + w2 + w3) / 3\n",
    "print(\"Round 1: Global model weights after aggregation:\", global_model)\n"
   ]
  },
  {
   "cell_type": "code",
   "execution_count": 15,
   "id": "73e3c293",
   "metadata": {},
   "outputs": [
    {
     "name": "stdout",
     "output_type": "stream",
     "text": [
      "\n",
      "Round 2 - Client 1 updated model: [0.68 1.04]\n"
     ]
    }
   ],
   "source": [
    "# Round 2\n",
    "# Client 1 updates the global model again using its data D1\n",
    "# The update rule for Client 1 is: w1 = global_model - 0.2 * (global_model - D1)\n",
    "w1 = global_model - 0.2 * (global_model - D1)\n",
    "print(\"\\nRound 2 - Client 1 updated model:\", w1)\n"
   ]
  },
  {
   "cell_type": "code",
   "execution_count": 16,
   "id": "c0e8b3d0",
   "metadata": {},
   "outputs": [
    {
     "name": "stdout",
     "output_type": "stream",
     "text": [
      "Round 2 - Client 2 updated model: [1.08 1.44]\n"
     ]
    }
   ],
   "source": [
    "# Client 2 updates the global model again using its data D2\n",
    "# The update rule for Client 2 is: w2 = global_model - 0.2 * (global_model - D2)\n",
    "w2 = global_model - 0.2 * (global_model - D2)\n",
    "print(\"Round 2 - Client 2 updated model:\", w2)\n"
   ]
  },
  {
   "cell_type": "code",
   "execution_count": 17,
   "id": "e51e5362",
   "metadata": {},
   "outputs": [
    {
     "name": "stdout",
     "output_type": "stream",
     "text": [
      "Round 2 - Client 3 updated model: [1.48 1.84]\n"
     ]
    }
   ],
   "source": [
    "# Client 3 updates the global model again using its data D3\n",
    "# The update rule for Client 3 is: w3 = global_model - 0.2 * (global_model - D3)\n",
    "w3 = global_model - 0.2 * (global_model - D3)\n",
    "print(\"Round 2 - Client 3 updated model:\", w3)\n"
   ]
  },
  {
   "cell_type": "code",
   "execution_count": 18,
   "id": "f1702cc1",
   "metadata": {},
   "outputs": [
    {
     "name": "stdout",
     "output_type": "stream",
     "text": [
      "Round 2: Global model weights after aggregation: [1.08 1.44]\n"
     ]
    }
   ],
   "source": [
    "# Aggregation step\n",
    "# The global model is updated again by averaging the models from all clients\n",
    "# global_model = (w1 + w2 + w3) / 3\n",
    "global_model = (w1 + w2 + w3) / 3\n",
    "print(\"Round 2: Global model weights after aggregation:\", global_model)\n"
   ]
  },
  {
   "cell_type": "code",
   "execution_count": 19,
   "id": "35e095c4",
   "metadata": {},
   "outputs": [
    {
     "name": "stdout",
     "output_type": "stream",
     "text": [
      "\n",
      "Final global model: [1.08 1.44]\n"
     ]
    }
   ],
   "source": [
    "# Final Global Model\n",
    "# Print the final global model weights\n",
    "print(\"\\nFinal global model:\", global_model)\n"
   ]
  },
  {
   "cell_type": "code",
   "execution_count": null,
   "id": "373d383b",
   "metadata": {},
   "outputs": [],
   "source": []
  }
 ],
 "metadata": {
  "kernelspec": {
   "display_name": "Python 3 (ipykernel)",
   "language": "python",
   "name": "python3"
  },
  "language_info": {
   "codemirror_mode": {
    "name": "ipython",
    "version": 3
   },
   "file_extension": ".py",
   "mimetype": "text/x-python",
   "name": "python",
   "nbconvert_exporter": "python",
   "pygments_lexer": "ipython3",
   "version": "3.11.7"
  }
 },
 "nbformat": 4,
 "nbformat_minor": 5
}
