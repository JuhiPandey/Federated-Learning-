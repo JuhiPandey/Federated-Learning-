{
 "cells": [
  {
   "cell_type": "markdown",
   "id": "aaa32f7a",
   "metadata": {},
   "source": [
    "This Python script demonstrates federated learning using simulated heart rate data from three devices (smart watches). It employs LinearRegression from scikit-learn for regression tasks. Initially, features (e.g., age) and corresponding simulated heart rates (y_device1, y_device2, y_device3) are generated for each device (X_device1, X_device2, X_device3).\n",
    "\n",
    "Local regression models (model_device1, model_device2, model_device3) are trained independently on each device's data using the train_local_model function. The secure_aggregation function averages the coefficients and intercepts of these models to update the global model (global_model).\n",
    "\n",
    "Finally, the global model makes predictions (y_pred) for a new input (X_new)."
   ]
  },
  {
   "cell_type": "code",
   "execution_count": 2,
   "id": "3bcddeac",
   "metadata": {},
   "outputs": [
    {
     "name": "stdout",
     "output_type": "stream",
     "text": [
      "Predicted heart rate: [64.74424685]\n"
     ]
    }
   ],
   "source": [
    "# Import necessary libraries\n",
    "import numpy as np\n",
    "from sklearn.linear_model import LinearRegression\n",
    "\n",
    "# Simulated heart rate data for three devices (smart watches)\n",
    "X_device1 = np.random.rand(50, 1) * 10  # Features (e.g., age) for device 1\n",
    "y_device1 = 60 + 10 * np.random.randn(50, 1)  # Simulated heart rate for device 1\n",
    "\n",
    "X_device2 = np.random.rand(50, 1) * 10  # Features (e.g., age) for device 2\n",
    "y_device2 = 65 + 8 * np.random.randn(50, 1)  # Simulated heart rate for device 2\n",
    "\n",
    "X_device3 = np.random.rand(50, 1) * 10  # Features (e.g., age) for device 3\n",
    "y_device3 = 70 + 12 * np.random.randn(50, 1)  # Simulated heart rate for device 3\n",
    "\n",
    "# Model initialization (global model)\n",
    "global_model = LinearRegression()\n",
    "\n",
    "# Federated learning: Model training on each device\n",
    "def train_local_model(X, y):\n",
    "    model = LinearRegression()\n",
    "    model.fit(X, y)\n",
    "    return model\n",
    "\n",
    "model_device1 = train_local_model(X_device1, y_device1)\n",
    "model_device2 = train_local_model(X_device2, y_device2)\n",
    "model_device3 = train_local_model(X_device3, y_device3)\n",
    "\n",
    "# Secure aggregation (average models)\n",
    "def secure_aggregation(models):\n",
    "    global_coefs = np.mean([model.coef_ for model in models], axis=0)\n",
    "    global_intercept = np.mean([model.intercept_ for model in models])\n",
    "    global_model.coef_ = global_coefs\n",
    "    global_model.intercept_ = global_intercept\n",
    "\n",
    "# Aggregate local models\n",
    "secure_aggregation([model_device1, model_device2, model_device3])\n",
    "\n",
    "# Example prediction\n",
    "X_new = np.array([[5.0]])  # Example prediction input\n",
    "y_pred = global_model.predict(X_new)\n",
    "print(\"Predicted heart rate:\", y_pred[0])\n"
   ]
  },
  {
   "cell_type": "code",
   "execution_count": null,
   "id": "38bb30b6",
   "metadata": {},
   "outputs": [],
   "source": []
  }
 ],
 "metadata": {
  "kernelspec": {
   "display_name": "Python 3 (ipykernel)",
   "language": "python",
   "name": "python3"
  },
  "language_info": {
   "codemirror_mode": {
    "name": "ipython",
    "version": 3
   },
   "file_extension": ".py",
   "mimetype": "text/x-python",
   "name": "python",
   "nbconvert_exporter": "python",
   "pygments_lexer": "ipython3",
   "version": "3.11.7"
  }
 },
 "nbformat": 4,
 "nbformat_minor": 5
}
