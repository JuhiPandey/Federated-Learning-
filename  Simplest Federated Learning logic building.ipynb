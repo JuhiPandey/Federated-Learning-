{
 "cells": [
  {
   "cell_type": "raw",
   "id": "b2f887da",
   "metadata": {},
   "source": [
    "In this simplified example:\n",
    "\n",
    "client_data_A and client_data_B represent the data available at two different clients.\n",
    "Each client computes a local model by taking the mean of its dataset (local_model_A and local_model_B).\n",
    "The global model (global_model) is updated by averaging the local models from all clients.\n",
    "This example demonstrates the basic concept of Federated Learning where model updates from different clients are aggregated without centrally collecting raw data."
   ]
  },
  {
   "cell_type": "code",
   "execution_count": 1,
   "id": "aac82b84",
   "metadata": {},
   "outputs": [
    {
     "name": "stdout",
     "output_type": "stream",
     "text": [
      "Client A: Training local model...\n",
      "Client B: Training local model...\n",
      "Global model weight after aggregation: 1.833332668672398\n"
     ]
    }
   ],
   "source": [
    "import numpy as np\n",
    "\n",
    "# Define a simple linear regression model\n",
    "class SimpleModel:\n",
    "    def __init__(self):\n",
    "        self.w = np.random.randn()  # Random initialization of weight\n",
    "    \n",
    "    def predict(self, x):\n",
    "        return self.w * x\n",
    "    \n",
    "    def train(self, x, y, epochs=10, lr=0.1):\n",
    "        for _ in range(epochs):\n",
    "            # Gradient descent optimization\n",
    "            y_pred = self.predict(x)\n",
    "            gradient = np.mean((y_pred - y) * x)\n",
    "            self.w -= lr * gradient\n",
    "\n",
    "# Client class simulating local data and training\n",
    "class Client:\n",
    "    def __init__(self, name, data_x, data_y):\n",
    "        self.name = name\n",
    "        self.model = SimpleModel()\n",
    "        self.data_x = data_x\n",
    "        self.data_y = data_y\n",
    "    \n",
    "    def train_local_model(self):\n",
    "        print(f\"{self.name}: Training local model...\")\n",
    "        self.model.train(self.data_x, self.data_y)\n",
    "    \n",
    "    def get_model_weights(self):\n",
    "        return self.model.w\n",
    "\n",
    "# Simulated data for two clients\n",
    "data_x_A = np.array([1, 2, 3, 4, 5])\n",
    "data_y_A = np.array([2, 4, 6, 8, 10])\n",
    "data_x_B = np.array([1, 2, 3, 4])\n",
    "data_y_B = np.array([1, 3, 5, 7])\n",
    "\n",
    "# Initialize clients\n",
    "client_A = Client(\"Client A\", data_x_A, data_y_A)\n",
    "client_B = Client(\"Client B\", data_x_B, data_y_B)\n",
    "\n",
    "# Train local models\n",
    "client_A.train_local_model()\n",
    "client_B.train_local_model()\n",
    "\n",
    "# Federated learning: Aggregate model updates\n",
    "weights_A = client_A.get_model_weights()\n",
    "weights_B = client_B.get_model_weights()\n",
    "\n",
    "# Simple averaging for aggregation\n",
    "global_model_weight = (weights_A + weights_B) / 2\n",
    "print(f\"Global model weight after aggregation: {global_model_weight}\")\n"
   ]
  },
  {
   "cell_type": "code",
   "execution_count": null,
   "id": "d531c73c",
   "metadata": {},
   "outputs": [],
   "source": []
  }
 ],
 "metadata": {
  "kernelspec": {
   "display_name": "Python 3 (ipykernel)",
   "language": "python",
   "name": "python3"
  },
  "language_info": {
   "codemirror_mode": {
    "name": "ipython",
    "version": 3
   },
   "file_extension": ".py",
   "mimetype": "text/x-python",
   "name": "python",
   "nbconvert_exporter": "python",
   "pygments_lexer": "ipython3",
   "version": "3.11.7"
  }
 },
 "nbformat": 4,
 "nbformat_minor": 5
}
