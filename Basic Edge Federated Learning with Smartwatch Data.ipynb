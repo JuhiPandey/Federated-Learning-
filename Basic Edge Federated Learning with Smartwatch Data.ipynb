{
 "cells": [
  {
   "cell_type": "raw",
   "id": "6e0192b0",
   "metadata": {},
   "source": [
    "In a Federated Learning scenario where three people each have a smartwatch equipped with health monitoring capabilities, this basic example where each smartwatch (edge device) trains a local health monitoring model and then collaboratively improves a global model without directly sharing personal data."
   ]
  },
  {
   "cell_type": "code",
   "execution_count": 2,
   "id": "44668db5",
   "metadata": {},
   "outputs": [
    {
     "name": "stdout",
     "output_type": "stream",
     "text": [
      "Global mean heart rate after federated averaging: 78.85000000000001\n"
     ]
    }
   ],
   "source": [
    "import numpy as np\n",
    "\n",
    "# Simulated data for three smartwatches (edge devices)\n",
    "smartwatch_data = {\n",
    "    \"Smartwatch_A\": np.array([80, 82, 85, 90, 88]),   # Heart rate data for person A\n",
    "    \"Smartwatch_B\": np.array([75, 78, 80, 82]),       # Heart rate data for person B\n",
    "    \"Smartwatch_C\": np.array([70, 72, 75, 74, 73])    # Heart rate data for person C\n",
    "}\n",
    "\n",
    "# Define a simple model class for heart rate prediction\n",
    "class HeartRateModel:\n",
    "    def __init__(self):\n",
    "        self.mean_hr = None\n",
    "    \n",
    "    def train(self, data):\n",
    "        self.mean_hr = np.mean(data)\n",
    "    \n",
    "    def get_mean_hr(self):\n",
    "        return self.mean_hr\n",
    "\n",
    "# Initialize models for each smartwatch\n",
    "models = {\n",
    "    \"Smartwatch_A\": HeartRateModel(),\n",
    "    \"Smartwatch_B\": HeartRateModel(),\n",
    "    \"Smartwatch_C\": HeartRateModel()\n",
    "}\n",
    "\n",
    "# Train local models on each smartwatch\n",
    "for smartwatch, data in smartwatch_data.items():\n",
    "    models[smartwatch].train(data)\n",
    "\n",
    "# Federated learning: Aggregate model updates (simple averaging)\n",
    "global_mean_hr = np.mean([model.get_mean_hr() for model in models.values()])\n",
    "\n",
    "print(f\"Global mean heart rate after federated averaging: {global_mean_hr}\")\n"
   ]
  },
  {
   "cell_type": "raw",
   "id": "8d6bed63",
   "metadata": {},
   "source": [
    "Explanation:\n",
    "Data Simulation: Simulated heart rate data (smartwatch_data) for three people (Smartwatch_A, Smartwatch_B, Smartwatch_C).\n",
    "\n",
    "Model Definition: HeartRateModel class represents a simple model that computes the mean heart rate.\n",
    "\n",
    "Local Training: Each smartwatch (edge device) trains its local model (HeartRateModel) using its own data (train method).\n",
    "\n",
    "Federated Learning: After local training, the global model (global_mean_hr) is updated by averaging the mean heart rates from all smartwatches.\n",
    "\n",
    "In this example:\n",
    "\n",
    "Each smartwatch maintains its privacy by only sharing model updates (mean heart rate) rather than raw data.\n",
    "The global model (global_mean_hr) represents an aggregated understanding of heart rates across the three individuals, without exposing their personal health data.\n",
    "This simple example demonstrates the concept of Federated Learning where edge devices collaborate to improve a global model while preserving data privacy."
   ]
  },
  {
   "cell_type": "code",
   "execution_count": null,
   "id": "abf17849",
   "metadata": {},
   "outputs": [],
   "source": []
  },
  {
   "cell_type": "code",
   "execution_count": null,
   "id": "249e87fd",
   "metadata": {},
   "outputs": [],
   "source": []
  }
 ],
 "metadata": {
  "kernelspec": {
   "display_name": "Python 3 (ipykernel)",
   "language": "python",
   "name": "python3"
  },
  "language_info": {
   "codemirror_mode": {
    "name": "ipython",
    "version": 3
   },
   "file_extension": ".py",
   "mimetype": "text/x-python",
   "name": "python",
   "nbconvert_exporter": "python",
   "pygments_lexer": "ipython3",
   "version": "3.11.7"
  }
 },
 "nbformat": 4,
 "nbformat_minor": 5
}
